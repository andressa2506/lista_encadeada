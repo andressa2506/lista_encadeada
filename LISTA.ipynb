{
  "nbformat": 4,
  "nbformat_minor": 0,
  "metadata": {
    "colab": {
      "provenance": [],
      "authorship_tag": "ABX9TyNjhDd7a3hOCuTj4w1pWm4s"
    },
    "kernelspec": {
      "name": "python3",
      "display_name": "Python 3"
    },
    "language_info": {
      "name": "python"
    }
  },
  "cells": [
    {
      "cell_type": "markdown",
      "source": [
        "# Lista encadeada\n",
        "\n",
        "Trabalho acadêmico realizado para a disciplina estrutura de dados.\n",
        "\n",
        "***OBJETIVOS***\n",
        "\n",
        "* Analisar os conceitos vistos em aula;\n",
        "* Avaliar as teorias por trás da prática;\n",
        "\n",
        "* Aprender e realizar a implementação de uma lista encadeada utilizando a linguagem de\n",
        "programação Python\n"
      ],
      "metadata": {
        "id": "kXrkgnQs7iDY"
      }
    },
    {
      "cell_type": "markdown",
      "source": [
        "***ATIVIDADE PROPOSTA:***\n",
        "\n",
        "Implementar uma lista encadeada utilizando a linguagem Python.\n",
        "\n",
        "A atividade consiste em implementar uma função chamada count_nodes, que recebe uma lista encadeada como parâmetro e retorna o número de nós presentes na lista.\n",
        "\n",
        "A função percorre a lista encadeada usando um loop enquanto incrementa um contador.\n",
        "\n",
        " Ao final do percurso, o valor do\n",
        "contador é retornado."
      ],
      "metadata": {
        "id": "AXgsJA4h7vuB"
      }
    },
    {
      "cell_type": "markdown",
      "source": [],
      "metadata": {
        "id": "3dnQsOja7f4Q"
      }
    },
    {
      "cell_type": "code",
      "source": [
        "class Node:\n",
        "    def __init__(self, data):\n",
        "        self.data = data\n",
        "        self.next = None\n",
        "\n",
        "class LinkedList:\n",
        "    def __init__(self):\n",
        "        self.head = None\n",
        "    # início da lista encadeada com o cabeçote (head) inicial como None.\n",
        "\n",
        "    def append(self, data):\n",
        "        new_node = Node(data)\n",
        "        if self.head is None:\n",
        "            self.head = new_node\n",
        "            return\n",
        "        last = self.head\n",
        "        while last.next:\n",
        "            last = last.next\n",
        "        last.next = new_node\n",
        "\n",
        "    def print_list(self):\n",
        "        # Imprime todos os dados dos nós na lista encadeada.\n",
        "        current = self.head\n",
        "        while current:\n",
        "            print(current.data, end=\" -> \")\n",
        "            current = current.next\n",
        "        print(\"None\")\n",
        "\n",
        "def count_nodes(linked_list):\n",
        "    # Conta o número de nós na lista fornecida.\n",
        "    count = 0\n",
        "    current = linked_list.head\n",
        "    while current:\n",
        "        count += 1\n",
        "        current = current.next\n",
        "    return count\n",
        "\n",
        "if __name__ == \"__main__\":\n",
        "    # Criando uma lista encadeada e adicionando alguns elementos\n",
        "    linked_list = LinkedList()\n",
        "    linked_list.append('Banana')\n",
        "    linked_list.append('Abacate')\n",
        "    linked_list.append('Abacaxi')\n",
        "    linked_list.append('Laranja')\n",
        "\n",
        "    # Imprimindo a lista encadeada\n",
        "    linked_list.print_list()\n",
        "\n",
        "    # Contando o número de nós\n",
        "    num_nodes = count_nodes(linked_list)\n",
        "    print(f\"Número de nós na lista encadeada: {num_nodes}\")\n"
      ],
      "metadata": {
        "colab": {
          "base_uri": "https://localhost:8080/"
        },
        "id": "Lun8V46556wU",
        "outputId": "0b9a474a-77bb-4938-e32f-48288c921292"
      },
      "execution_count": 2,
      "outputs": [
        {
          "output_type": "stream",
          "name": "stdout",
          "text": [
            "Banana -> Abacate -> Abacaxi -> Laranja -> None\n",
            "Número de nós na lista encadeada: 4\n"
          ]
        }
      ]
    }
  ]
}